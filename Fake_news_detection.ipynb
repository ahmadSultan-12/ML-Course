{
  "nbformat": 4,
  "nbformat_minor": 0,
  "metadata": {
    "colab": {
      "name": "Fake_news_detection.ipynb",
      "provenance": [],
      "collapsed_sections": [],
      "mount_file_id": "1m2swfL6Y_zetgjGqPKck3VghsKJp6pGC",
      "authorship_tag": "ABX9TyPkD8Begbs929oFx7TmG/k1",
      "include_colab_link": true
    },
    "kernelspec": {
      "name": "python3",
      "display_name": "Python 3"
    }
  },
  "cells": [
    {
      "cell_type": "markdown",
      "metadata": {
        "id": "view-in-github",
        "colab_type": "text"
      },
      "source": [
        "<a href=\"https://colab.research.google.com/github/ahmadSultan-12/ML-Course/blob/main/Fake_news_detection.ipynb\" target=\"_parent\"><img src=\"https://colab.research.google.com/assets/colab-badge.svg\" alt=\"Open In Colab\"/></a>"
      ]
    },
    {
      "cell_type": "code",
      "metadata": {
        "colab": {
          "base_uri": "https://localhost:8080/"
        },
        "id": "TMIdxldOl7pN",
        "outputId": "4a3216e1-0784-4acf-9eff-7489f3592ede"
      },
      "source": [
        "# importing required packages and libraries...\n",
        "import pandas as pd\n",
        "import numpy as np\n",
        "import matplotlib.pyplot as plt\n",
        "import seaborn as sns\n",
        "from sklearn.naive_bayes import MultinomialNB\n",
        "from sklearn.svm import SVC\n",
        "from sklearn.feature_extraction.text import TfidfVectorizer\n",
        "from sklearn.model_selection import train_test_split\n",
        "from sklearn.preprocessing import LabelEncoder\n",
        "from sklearn.metrics import plot_confusion_matrix, confusion_matrix, accuracy_score\n",
        "from keras.models import Model, load_model, Sequential\n",
        "from keras.layers import LSTM, Activation, Dense, Dropout, Input, Embedding, Flatten\n",
        "from keras.optimizers import RMSprop\n",
        "from keras.preprocessing.text import Tokenizer\n",
        "from keras.preprocessing import sequence\n",
        "from keras.utils import to_categorical\n",
        "\n",
        "import pickle\n",
        "%matplotlib inline\n",
        "print('All packages have been imported successfully')"
      ],
      "execution_count": null,
      "outputs": [
        {
          "output_type": "stream",
          "text": [
            "All packages have been imported successfully\n"
          ],
          "name": "stdout"
        }
      ]
    },
    {
      "cell_type": "code",
      "metadata": {
        "colab": {
          "base_uri": "https://localhost:8080/",
          "height": 204
        },
        "id": "XPjYe98MoFDC",
        "outputId": "e21e1ff2-b813-4c3d-ad63-cc5495743dc3"
      },
      "source": [
        "# visualizing data\n",
        "data = pd.read_csv('/content/drive/MyDrive/fake_news_detection_dataset/1569488175_train.csv')\n",
        "data.head()\n"
      ],
      "execution_count": null,
      "outputs": [
        {
          "output_type": "execute_result",
          "data": {
            "text/html": [
              "<div>\n",
              "<style scoped>\n",
              "    .dataframe tbody tr th:only-of-type {\n",
              "        vertical-align: middle;\n",
              "    }\n",
              "\n",
              "    .dataframe tbody tr th {\n",
              "        vertical-align: top;\n",
              "    }\n",
              "\n",
              "    .dataframe thead th {\n",
              "        text-align: right;\n",
              "    }\n",
              "</style>\n",
              "<table border=\"1\" class=\"dataframe\">\n",
              "  <thead>\n",
              "    <tr style=\"text-align: right;\">\n",
              "      <th></th>\n",
              "      <th>id</th>\n",
              "      <th>title</th>\n",
              "      <th>author</th>\n",
              "      <th>text</th>\n",
              "      <th>label</th>\n",
              "    </tr>\n",
              "  </thead>\n",
              "  <tbody>\n",
              "    <tr>\n",
              "      <th>0</th>\n",
              "      <td>0</td>\n",
              "      <td>House Dem Aide: We Didn’t Even See Comey’s Let...</td>\n",
              "      <td>Darrell Lucus</td>\n",
              "      <td>House Dem Aide: We Didn’t Even See Comey’s Let...</td>\n",
              "      <td>1</td>\n",
              "    </tr>\n",
              "    <tr>\n",
              "      <th>1</th>\n",
              "      <td>1</td>\n",
              "      <td>FLYNN: Hillary Clinton, Big Woman on Campus - ...</td>\n",
              "      <td>Daniel J. Flynn</td>\n",
              "      <td>Ever get the feeling your life circles the rou...</td>\n",
              "      <td>0</td>\n",
              "    </tr>\n",
              "    <tr>\n",
              "      <th>2</th>\n",
              "      <td>2</td>\n",
              "      <td>Why the Truth Might Get You Fired</td>\n",
              "      <td>Consortiumnews.com</td>\n",
              "      <td>Why the Truth Might Get You Fired October 29, ...</td>\n",
              "      <td>1</td>\n",
              "    </tr>\n",
              "    <tr>\n",
              "      <th>3</th>\n",
              "      <td>3</td>\n",
              "      <td>15 Civilians Killed In Single US Airstrike Hav...</td>\n",
              "      <td>Jessica Purkiss</td>\n",
              "      <td>Videos 15 Civilians Killed In Single US Airstr...</td>\n",
              "      <td>1</td>\n",
              "    </tr>\n",
              "    <tr>\n",
              "      <th>4</th>\n",
              "      <td>4</td>\n",
              "      <td>Iranian woman jailed for fictional unpublished...</td>\n",
              "      <td>Howard Portnoy</td>\n",
              "      <td>Print \\nAn Iranian woman has been sentenced to...</td>\n",
              "      <td>1</td>\n",
              "    </tr>\n",
              "  </tbody>\n",
              "</table>\n",
              "</div>"
            ],
            "text/plain": [
              "   id  ... label\n",
              "0   0  ...     1\n",
              "1   1  ...     0\n",
              "2   2  ...     1\n",
              "3   3  ...     1\n",
              "4   4  ...     1\n",
              "\n",
              "[5 rows x 5 columns]"
            ]
          },
          "metadata": {
            "tags": []
          },
          "execution_count": 2
        }
      ]
    },
    {
      "cell_type": "code",
      "metadata": {
        "colab": {
          "base_uri": "https://localhost:8080/",
          "height": 204
        },
        "id": "3Ph6KZbBpbBu",
        "outputId": "404379a7-6306-4107-9b12-b3e72c588b1b"
      },
      "source": [
        "# grouping input data and target labels\n",
        "data['News'] = data['title'] + data['text']\n",
        "data_final = data[['News','label']]\n",
        "data_final.head()\n"
      ],
      "execution_count": null,
      "outputs": [
        {
          "output_type": "execute_result",
          "data": {
            "text/html": [
              "<div>\n",
              "<style scoped>\n",
              "    .dataframe tbody tr th:only-of-type {\n",
              "        vertical-align: middle;\n",
              "    }\n",
              "\n",
              "    .dataframe tbody tr th {\n",
              "        vertical-align: top;\n",
              "    }\n",
              "\n",
              "    .dataframe thead th {\n",
              "        text-align: right;\n",
              "    }\n",
              "</style>\n",
              "<table border=\"1\" class=\"dataframe\">\n",
              "  <thead>\n",
              "    <tr style=\"text-align: right;\">\n",
              "      <th></th>\n",
              "      <th>News</th>\n",
              "      <th>label</th>\n",
              "    </tr>\n",
              "  </thead>\n",
              "  <tbody>\n",
              "    <tr>\n",
              "      <th>0</th>\n",
              "      <td>House Dem Aide: We Didn’t Even See Comey’s Let...</td>\n",
              "      <td>1</td>\n",
              "    </tr>\n",
              "    <tr>\n",
              "      <th>1</th>\n",
              "      <td>FLYNN: Hillary Clinton, Big Woman on Campus - ...</td>\n",
              "      <td>0</td>\n",
              "    </tr>\n",
              "    <tr>\n",
              "      <th>2</th>\n",
              "      <td>Why the Truth Might Get You FiredWhy the Truth...</td>\n",
              "      <td>1</td>\n",
              "    </tr>\n",
              "    <tr>\n",
              "      <th>3</th>\n",
              "      <td>15 Civilians Killed In Single US Airstrike Hav...</td>\n",
              "      <td>1</td>\n",
              "    </tr>\n",
              "    <tr>\n",
              "      <th>4</th>\n",
              "      <td>Iranian woman jailed for fictional unpublished...</td>\n",
              "      <td>1</td>\n",
              "    </tr>\n",
              "  </tbody>\n",
              "</table>\n",
              "</div>"
            ],
            "text/plain": [
              "                                                News  label\n",
              "0  House Dem Aide: We Didn’t Even See Comey’s Let...      1\n",
              "1  FLYNN: Hillary Clinton, Big Woman on Campus - ...      0\n",
              "2  Why the Truth Might Get You FiredWhy the Truth...      1\n",
              "3  15 Civilians Killed In Single US Airstrike Hav...      1\n",
              "4  Iranian woman jailed for fictional unpublished...      1"
            ]
          },
          "metadata": {
            "tags": []
          },
          "execution_count": 4
        }
      ]
    },
    {
      "cell_type": "code",
      "metadata": {
        "colab": {
          "base_uri": "https://localhost:8080/"
        },
        "id": "Gu1a0pZ6p-gr",
        "outputId": "ab70597e-1193-4451-dd3a-6383e213d919"
      },
      "source": [
        "# data cleaning\n",
        "data_final.isna().sum() # checking for missing values\n",
        "\n",
        "\n"
      ],
      "execution_count": null,
      "outputs": [
        {
          "output_type": "execute_result",
          "data": {
            "text/plain": [
              "News     597\n",
              "label      0\n",
              "dtype: int64"
            ]
          },
          "metadata": {
            "tags": []
          },
          "execution_count": 5
        }
      ]
    },
    {
      "cell_type": "code",
      "metadata": {
        "colab": {
          "base_uri": "https://localhost:8080/"
        },
        "id": "pE-OX7GpBKqU",
        "outputId": "067507fc-d3e7-4f42-a74c-f21248cc28b0"
      },
      "source": [
        "data_final.dropna(inplace=True) # remove rows having missing values\n",
        "data_final.isna().sum() # checking for missing values"
      ],
      "execution_count": null,
      "outputs": [
        {
          "output_type": "stream",
          "text": [
            "/usr/local/lib/python3.6/dist-packages/ipykernel_launcher.py:1: SettingWithCopyWarning: \n",
            "A value is trying to be set on a copy of a slice from a DataFrame\n",
            "\n",
            "See the caveats in the documentation: https://pandas.pydata.org/pandas-docs/stable/user_guide/indexing.html#returning-a-view-versus-a-copy\n",
            "  \"\"\"Entry point for launching an IPython kernel.\n"
          ],
          "name": "stderr"
        },
        {
          "output_type": "execute_result",
          "data": {
            "text/plain": [
              "News     0\n",
              "label    0\n",
              "dtype: int64"
            ]
          },
          "metadata": {
            "tags": []
          },
          "execution_count": 8
        }
      ]
    },
    {
      "cell_type": "code",
      "metadata": {
        "colab": {
          "base_uri": "https://localhost:8080/",
          "height": 366
        },
        "id": "vLFFr8b1q3N2",
        "outputId": "4fd983fe-8dbc-4159-a1a8-e0927097c1bf"
      },
      "source": [
        "# checking dataset size and balancing...\n",
        "ax = sns.countplot(data_final.label)\n",
        "ax.tick_params(axis='both')\n",
        "#plt.xlabel('Label', color = 'white')\n",
        "#plt.ylabel('count', color = 'white')\n",
        "plt.title('Fake vs Real News')\n"
      ],
      "execution_count": null,
      "outputs": [
        {
          "output_type": "stream",
          "text": [
            "/usr/local/lib/python3.6/dist-packages/seaborn/_decorators.py:43: FutureWarning: Pass the following variable as a keyword arg: x. From version 0.12, the only valid positional argument will be `data`, and passing other arguments without an explicit keyword will result in an error or misinterpretation.\n",
            "  FutureWarning\n"
          ],
          "name": "stderr"
        },
        {
          "output_type": "execute_result",
          "data": {
            "text/plain": [
              "Text(0.5, 1.0, 'Fake vs Real News')"
            ]
          },
          "metadata": {
            "tags": []
          },
          "execution_count": 6
        },
        {
          "output_type": "display_data",
          "data": {
            "image/png": "[encoded data removed]",
            "text/plain": [
              "<Figure size 432x288 with 1 Axes>"
            ]
          },
          "metadata": {
            "tags": [],
            "needs_background": "light"
          }
        }
      ]
    },
    {
      "cell_type": "code",
      "metadata": {
        "colab": {
          "base_uri": "https://localhost:8080/"
        },
        "id": "lSlYVduqCEaM",
        "outputId": "f8bf497d-9123-4f06-c524-e3933b26616b"
      },
      "source": [
        "len(data_final.index)"
      ],
      "execution_count": null,
      "outputs": [
        {
          "output_type": "execute_result",
          "data": {
            "text/plain": [
              "20203"
            ]
          },
          "metadata": {
            "tags": []
          },
          "execution_count": 7
        }
      ]
    },
    {
      "cell_type": "code",
      "metadata": {
        "id": "TCbLo8BIrOKJ"
      },
      "source": [
        "# separating input and output data variables\n",
        "X = data_final.News\n",
        "Y = data_final.label\n"
      ],
      "execution_count": null,
      "outputs": []
    },
    {
      "cell_type": "code",
      "metadata": {
        "id": "RZTFxtDch-3I"
      },
      "source": [
        "le = LabelEncoder()\n",
        "Y = le.fit_transform(Y)\n",
        "Y = Y.reshape(-1,1)"
      ],
      "execution_count": null,
      "outputs": []
    },
    {
      "cell_type": "code",
      "metadata": {
        "colab": {
          "base_uri": "https://localhost:8080/"
        },
        "id": "en1LyfWc2TGX",
        "outputId": "ed592467-6f80-4e4f-8aa0-d20b2b3f9816"
      },
      "source": [
        "Y.shape"
      ],
      "execution_count": null,
      "outputs": [
        {
          "output_type": "execute_result",
          "data": {
            "text/plain": [
              "(20203, 1)"
            ]
          },
          "metadata": {
            "tags": []
          },
          "execution_count": 9
        }
      ]
    },
    {
      "cell_type": "code",
      "metadata": {
        "id": "el7CuAKFrdsF"
      },
      "source": [
        "# splitting dataset into train and test sets\n",
        "X_train, X_test, Y_train, Y_test = train_test_split(X,Y,\n",
        "                                                   test_size=0.15, shuffle = 'True')"
      ],
      "execution_count": null,
      "outputs": []
    },
    {
      "cell_type": "code",
      "metadata": {
        "colab": {
          "base_uri": "https://localhost:8080/",
          "height": 562
        },
        "id": "DjVj6MZidOEU",
        "outputId": "250bf656-6ae3-4357-cc74-60ea00651a45"
      },
      "source": [
        "X_train[1]"
      ],
      "execution_count": null,
      "outputs": [
        {
          "output_type": "execute_result",
          "data": {
            "application/vnd.google.colaboratory.intrinsic+json": {
              "type": "string"
            },
            "text/plain": [
              "'FLYNN: Hillary Clinton, Big Woman on Campus - BreitbartEver get the feeling your life circles the roundabout rather than heads in a straight line toward the intended destination? [Hillary Clinton remains the big woman on campus in leafy, liberal Wellesley, Massachusetts. Everywhere else votes her most likely to don her inauguration dress for the remainder of her days the way Miss Havisham forever wore that wedding dress.  Speaking of Great Expectations, Hillary Rodham overflowed with them 48 years ago when she first addressed a Wellesley graduating class. The president of the college informed those gathered in 1969 that the students needed “no debate so far as I could ascertain as to who their spokesman was to be” (kind of the like the Democratic primaries in 2016 minus the   terms unknown then even at a Seven Sisters school). “I am very glad that Miss Adams made it clear that what I am speaking for today is all of us —  the 400 of us,” Miss Rodham told her classmates. After appointing herself Edger Bergen to the Charlie McCarthys and Mortimer Snerds in attendance, the    bespectacled in granny glasses (awarding her matronly wisdom —  or at least John Lennon wisdom) took issue with the previous speaker. Despite becoming the first   to win election to a seat in the U. S. Senate since Reconstruction, Edward Brooke came in for criticism for calling for “empathy” for the goals of protestors as he criticized tactics. Though Clinton in her senior thesis on Saul Alinsky lamented “Black Power demagogues” and “elitist arrogance and repressive intolerance” within the New Left, similar words coming out of a Republican necessitated a brief rebuttal. “Trust,” Rodham ironically observed in 1969, “this is one word that when I asked the class at our rehearsal what it was they wanted me to say for them, everyone came up to me and said ‘Talk about trust, talk about the lack of trust both for us and the way we feel about others. Talk about the trust bust.’ What can you say about it? What can you say about a feeling that permeates a generation and that perhaps is not even understood by those who are distrusted?” The “trust bust” certainly busted Clinton’s 2016 plans. She certainly did not even understand that people distrusted her. After Whitewater, Travelgate, the vast   conspiracy, Benghazi, and the missing emails, Clinton found herself the distrusted voice on Friday. There was a load of compromising on the road to the broadening of her political horizons. And distrust from the American people —  Trump edged her 48 percent to 38 percent on the question immediately prior to November’s election —  stood as a major reason for the closing of those horizons. Clinton described her vanquisher and his supporters as embracing a “lie,” a “con,” “alternative facts,” and “a   assault on truth and reason. ” She failed to explain why the American people chose his lies over her truth. “As the history majors among you here today know all too well, when people in power invent their own facts and attack those who question them, it can mark the beginning of the end of a free society,” she offered. “That is not hyperbole. ” Like so many people to emerge from the 1960s, Hillary Clinton embarked upon a long, strange trip. From high school Goldwater Girl and Wellesley College Republican president to Democratic politician, Clinton drank in the times and the place that gave her a degree. More significantly, she went from idealist to cynic, as a comparison of her two Wellesley commencement addresses show. Way back when, she lamented that “for too long our leaders have viewed politics as the art of the possible, and the challenge now is to practice politics as the art of making what appears to be impossible possible. ” Now, as the big woman on campus but the odd woman out of the White House, she wonders how her current station is even possible. “Why aren’t I 50 points ahead?” she asked in September. In May she asks why she isn’t president. The woman famously dubbed a “congenital liar” by Bill Safire concludes that lies did her in —  theirs, mind you, not hers. Getting stood up on Election Day, like finding yourself the jilted bride on your wedding day, inspires dangerous delusions.'"
            ]
          },
          "metadata": {
            "tags": []
          },
          "execution_count": 15
        }
      ]
    },
    {
      "cell_type": "code",
      "metadata": {
        "colab": {
          "base_uri": "https://localhost:8080/"
        },
        "id": "7KjhnPS0dv-o",
        "outputId": "2fe677e4-2de7-4cd1-826a-c5c3a7be8857"
      },
      "source": [
        "Y_train[1]"
      ],
      "execution_count": null,
      "outputs": [
        {
          "output_type": "execute_result",
          "data": {
            "text/plain": [
              "array([0])"
            ]
          },
          "metadata": {
            "tags": []
          },
          "execution_count": 16
        }
      ]
    },
    {
      "cell_type": "code",
      "metadata": {
        "colab": {
          "base_uri": "https://localhost:8080/",
          "height": 197
        },
        "id": "XSE3IOWE2SU6",
        "outputId": "4461a878-9601-4a92-8ed7-e30dd881dd12"
      },
      "source": [
        "# text cleaning(punctuations, stop words, special characters, etc.) and vectorizing\n",
        "max_words = 1000 # dictionary size\n",
        "max_len = 150   # no.of words in one news \n",
        "tok = Tokenizer(num_words = max_words)\n",
        "tok.fit_on_texts(X_train)\n",
        "sequences = tok.texts_to_sequences(X_train)\n",
        "sequences_matrix = sequence.pad_sequences(sequences, \n",
        "                                           maxlen=max_len)\n",
        "\n"
      ],
      "execution_count": null,
      "outputs": [
        {
          "output_type": "error",
          "ename": "TypeError",
          "evalue": "ignored",
          "traceback": [
            "\u001b[0;31m---------------------------------------------------------------------------\u001b[0m",
            "\u001b[0;31mTypeError\u001b[0m                                 Traceback (most recent call last)",
            "\u001b[0;32m<ipython-input-63-ef0fdf4444ac>\u001b[0m in \u001b[0;36m<module>\u001b[0;34m()\u001b[0m\n\u001b[1;32m      8\u001b[0m                                            maxlen=max_len)\n\u001b[1;32m      9\u001b[0m \u001b[0;34m\u001b[0m\u001b[0m\n\u001b[0;32m---> 10\u001b[0;31m \u001b[0msequences_matrix\u001b[0m\u001b[0;34m(\u001b[0m\u001b[0;36m1\u001b[0m\u001b[0;34m)\u001b[0m\u001b[0;34m\u001b[0m\u001b[0;34m\u001b[0m\u001b[0m\n\u001b[0m",
            "\u001b[0;31mTypeError\u001b[0m: 'numpy.ndarray' object is not callable"
          ]
        }
      ]
    },
    {
      "cell_type": "code",
      "metadata": {
        "colab": {
          "base_uri": "https://localhost:8080/"
        },
        "id": "s4EYq81sb0Mk",
        "outputId": "44064e23-63ff-4655-9d9c-524467335126"
      },
      "source": [
        "sequences_matrix[1]\n"
      ],
      "execution_count": null,
      "outputs": [
        {
          "output_type": "execute_result",
          "data": {
            "text/plain": [
              "array([102, 308,  39,  25, 234, 634,  38, 277, 102,  51, 465, 504, 530,\n",
              "         4,   1, 140,  74,  25, 112, 465, 115,   5,   4,  31, 573, 465,\n",
              "       115,   5,  11,  19,  44, 817,   2,   9, 688, 529,  39,   1, 785,\n",
              "         7, 612, 483, 209, 139,   6,   1, 196,  42, 485,  29,   4, 179,\n",
              "         8,   5,   2,   1,  48,  95,   4,  20, 330,  10,   4, 572,  16,\n",
              "        62,  22,  20,  27, 287,   8, 112,  25,  34, 204,   2, 771,  14,\n",
              "       934,  70, 607, 229, 109,   5, 607,  34,   9,   1,  20,   1,  48,\n",
              "        95,  41,  70,   4,  39,  30,   6, 263,   2,   5, 779,   9,  70,\n",
              "        41,  21,   5, 226,   9,  10,  55,  88, 344, 219,  24, 388,  70,\n",
              "       229,  14,  42,  22,  65,  38,  65, 344, 748,   6, 357,  88, 748,\n",
              "        10,  12,   1, 408,  55,  34,   2, 607,  10, 170,  34, 118,   9,\n",
              "         5, 408,   4,  38, 508,   5,  60], dtype=int32)"
            ]
          },
          "metadata": {
            "tags": []
          },
          "execution_count": 64
        }
      ]
    },
    {
      "cell_type": "code",
      "metadata": {
        "id": "39cA1GHW5GAt"
      },
      "source": [
        "# model building... LSTM\n",
        "def fake_news_detector_LSTM():\n",
        "    inputs = Input(name='inputs', shape = [max_len])\n",
        "    layer = Embedding(max_words, 50, input_length = max_len)(inputs) # no.of features = 50\n",
        "    layer = LSTM(64)(layer)\n",
        "    layer = Dense(256, name = 'FC1')(layer)\n",
        "    layer = Activation('relu')(layer)\n",
        "    layer = Dropout(0.5)(layer)\n",
        "    layer = Dense(1, name = 'out_layer')(layer)\n",
        "    layer = Activation('sigmoid')(layer)\n",
        "    model = Model(inputs=inputs,outputs=layer)\n",
        "    return model"
      ],
      "execution_count": null,
      "outputs": []
    },
    {
      "cell_type": "code",
      "metadata": {
        "colab": {
          "base_uri": "https://localhost:8080/"
        },
        "id": "fTkyYF8s5Rtk",
        "outputId": "e361046f-621e-40ab-9a9f-e661568a758e"
      },
      "source": [
        "LSTM_model = fake_news_detector()\n",
        "LSTM_model.summary()\n",
        "LSTM_model.compile(loss='binary_crossentropy', \n",
        "              optimizer = RMSprop(), \n",
        "              metrics = ['accuracy'])"
      ],
      "execution_count": null,
      "outputs": [
        {
          "output_type": "stream",
          "text": [
            "Model: \"model_2\"\n",
            "_________________________________________________________________\n",
            "Layer (type)                 Output Shape              Param #   \n",
            "=================================================================\n",
            "inputs (InputLayer)          [(None, 150)]             0         \n",
            "_________________________________________________________________\n",
            "embedding_2 (Embedding)      (None, 150, 50)           50000     \n",
            "_________________________________________________________________\n",
            "lstm_2 (LSTM)                (None, 64)                29440     \n",
            "_________________________________________________________________\n",
            "FC1 (Dense)                  (None, 256)               16640     \n",
            "_________________________________________________________________\n",
            "activation_4 (Activation)    (None, 256)               0         \n",
            "_________________________________________________________________\n",
            "dropout_2 (Dropout)          (None, 256)               0         \n",
            "_________________________________________________________________\n",
            "out_layer (Dense)            (None, 1)                 257       \n",
            "_________________________________________________________________\n",
            "activation_5 (Activation)    (None, 1)                 0         \n",
            "=================================================================\n",
            "Total params: 96,337\n",
            "Trainable params: 96,337\n",
            "Non-trainable params: 0\n",
            "_________________________________________________________________\n"
          ],
          "name": "stdout"
        }
      ]
    },
    {
      "cell_type": "code",
      "metadata": {
        "colab": {
          "base_uri": "https://localhost:8080/"
        },
        "id": "cR9v4suy5auf",
        "outputId": "3ca9d370-1025-4a65-8e19-d96c93d26f96"
      },
      "source": [
        "train_val_history = LSTM_model.fit(sequences_matrix,Y_train,batch_size=128,epochs=10,\n",
        "                              validation_split=0.2)"
      ],
      "execution_count": null,
      "outputs": [
        {
          "output_type": "stream",
          "text": [
            "Epoch 1/10\n",
            "108/108 [==============================] - 22s 188ms/step - loss: 0.4934 - accuracy: 0.7545 - val_loss: 0.2138 - val_accuracy: 0.9191\n",
            "Epoch 2/10\n",
            "108/108 [==============================] - 20s 183ms/step - loss: 0.2338 - accuracy: 0.9109 - val_loss: 0.2202 - val_accuracy: 0.9153\n",
            "Epoch 3/10\n",
            "108/108 [==============================] - 20s 185ms/step - loss: 0.1992 - accuracy: 0.9245 - val_loss: 0.2250 - val_accuracy: 0.9159\n",
            "Epoch 4/10\n",
            "108/108 [==============================] - 20s 184ms/step - loss: 0.1769 - accuracy: 0.9347 - val_loss: 0.2076 - val_accuracy: 0.9258\n",
            "Epoch 5/10\n",
            "108/108 [==============================] - 20s 182ms/step - loss: 0.1642 - accuracy: 0.9360 - val_loss: 0.2028 - val_accuracy: 0.9205\n",
            "Epoch 6/10\n",
            "108/108 [==============================] - 20s 183ms/step - loss: 0.1558 - accuracy: 0.9438 - val_loss: 0.5163 - val_accuracy: 0.8675\n",
            "Epoch 7/10\n",
            "108/108 [==============================] - 20s 184ms/step - loss: 0.1570 - accuracy: 0.9448 - val_loss: 0.2040 - val_accuracy: 0.9249\n",
            "Epoch 8/10\n",
            "108/108 [==============================] - 20s 184ms/step - loss: 0.1218 - accuracy: 0.9539 - val_loss: 0.2136 - val_accuracy: 0.9138\n",
            "Epoch 9/10\n",
            "108/108 [==============================] - 20s 184ms/step - loss: 0.1204 - accuracy: 0.9540 - val_loss: 0.2102 - val_accuracy: 0.9162\n",
            "Epoch 10/10\n",
            "108/108 [==============================] - 20s 184ms/step - loss: 0.1074 - accuracy: 0.9593 - val_loss: 0.2674 - val_accuracy: 0.9208\n"
          ],
          "name": "stdout"
        }
      ]
    },
    {
      "cell_type": "code",
      "metadata": {
        "id": "LVMaseHf7tcY"
      },
      "source": [
        "# Save Training and Validation History in a Dictionary....\n",
        "with open('/content/drive/My Drive/fake_news_detection_LSTM_history', 'wb') as f:\n",
        "  pickle.dump(train_val_history.history, f)\n",
        "\n",
        "# save model to disk for later use...\n",
        "LSTM_model.save(\"/content/drive/My Drive/fake_news_detection_LSTM_model.h5\")\n"
      ],
      "execution_count": null,
      "outputs": []
    },
    {
      "cell_type": "code",
      "metadata": {
        "colab": {
          "base_uri": "https://localhost:8080/",
          "height": 404
        },
        "id": "XV9amRf7-Cqe",
        "outputId": "9e3bb08c-8238-48ef-f1b2-24119915e336"
      },
      "source": [
        "## Step6:   \"Plotting Training and Validation History\"\n",
        "\n",
        "with open('/content/drive/My Drive/fake_news_detection_LSTM_history', 'rb') as f:\n",
        "    # load using pickle de-serializer\n",
        "    history = pickle.load(f)\n",
        "\n",
        "plt.figure(figsize=(15, 6))\n",
        "\n",
        "# plot model accuracies...\n",
        "ax = plt.subplot(1, 2, 1) \n",
        "ax.tick_params(axis='both', colors='white')\n",
        "plt.plot(history[\"accuracy\"])\n",
        "plt.plot(history[\"val_accuracy\"])\n",
        "plt.title('model accuracy')\n",
        "plt.ylabel(\"accuracy\", color = 'white')\n",
        "plt.xlabel(\"epoch\", color = 'white')\n",
        "plt.legend(['train', 'val'], loc = 'upper left')\n",
        "\n",
        "# plot model losses...\n",
        "ax = plt.subplot(1, 2, 2) # loss\n",
        "ax.tick_params(axis='both', colors='white')\n",
        "plt.plot(history[\"loss\"])\n",
        "plt.plot(history[\"val_loss\"])\n",
        "plt.title('model loss')\n",
        "plt.ylabel(\"loss\", color = 'white')\n",
        "plt.xlabel(\"epoch\", color = 'white')\n",
        "plt.legend(['train', 'val'], loc = 'upper left')\n",
        "\n",
        "plt.show()"
      ],
      "execution_count": null,
      "outputs": [
        {
          "output_type": "display_data",
          "data": {
            "image/png": "[encoded data removed]",
            "text/plain": [
              "<Figure size 1080x432 with 2 Axes>"
            ]
          },
          "metadata": {
            "tags": [],
            "needs_background": "dark"
          }
        }
      ]
    },
    {
      "cell_type": "code",
      "metadata": {
        "colab": {
          "base_uri": "https://localhost:8080/"
        },
        "id": "h9bT6ihF-WNh",
        "outputId": "a954a334-888c-406c-aa17-2fb04cfd61d7"
      },
      "source": [
        "# testing\n",
        "test_sequences = tok.texts_to_sequences(X_test)\n",
        "test_sequences_matrix = sequence.pad_sequences(test_sequences,\n",
        "                                               maxlen = max_len)\n",
        "\n",
        "\n",
        "model = load_model(\"/content/drive/My Drive/fake_news_detection_LSTM_model.h5\")  \n",
        "\n",
        "accr= model.evaluate(test_sequences_matrix,Y_test)\n",
        "print(\"Test set \\n Loss : {:0.3f} \\n Accuracy: {:0.3f}\".format(accr[0],accr[1]))\n",
        "# assuming test batch size to be 32"
      ],
      "execution_count": null,
      "outputs": [
        {
          "output_type": "stream",
          "text": [
            "95/95 [==============================] - 2s 19ms/step - loss: 0.2524 - accuracy: 0.9215\n",
            "Test set \n",
            " Loss : 0.252 \n",
            " Accuracy: 0.921\n"
          ],
          "name": "stdout"
        }
      ]
    },
    {
      "cell_type": "code",
      "metadata": {
        "colab": {
          "base_uri": "https://localhost:8080/"
        },
        "id": "aopGz_ex_Vd0",
        "outputId": "3c6523d4-3c1a-4e87-a783-0ed661b42f12"
      },
      "source": [
        "# model building... ANN\n",
        "def fake_news_detector_ANN():\n",
        "    model = Sequential(\n",
        "        [Input(shape = (max_len)),\n",
        "         Embedding(max_words, 50, input_length = max_len), # depth = 50\n",
        "         Flatten(), # 3D to 2D\n",
        "         Dense(256, activation='relu'),\n",
        "         Dropout(0.4),\n",
        "         Dense(64, activation='relu'),\n",
        "         Dense(1, activation='sigmoid')  # Binary Classification\n",
        "    ])\n",
        "\n",
        "    \n",
        "    model.compile(loss='binary_crossentropy', optimizer='adam', metrics=['acc'])\n",
        "    return model\n",
        "\n",
        "ANN_model = fake_news_detector_ANN() # create a model instance...\n",
        "ANN_model.summary()\n"
      ],
      "execution_count": null,
      "outputs": [
        {
          "output_type": "stream",
          "text": [
            "Model: \"sequential_3\"\n",
            "_________________________________________________________________\n",
            "Layer (type)                 Output Shape              Param #   \n",
            "=================================================================\n",
            "embedding_6 (Embedding)      (None, 150, 50)           50000     \n",
            "_________________________________________________________________\n",
            "flatten_3 (Flatten)          (None, 7500)              0         \n",
            "_________________________________________________________________\n",
            "dense_9 (Dense)              (None, 256)               1920256   \n",
            "_________________________________________________________________\n",
            "dropout_6 (Dropout)          (None, 256)               0         \n",
            "_________________________________________________________________\n",
            "dense_10 (Dense)             (None, 64)                16448     \n",
            "_________________________________________________________________\n",
            "dense_11 (Dense)             (None, 1)                 65        \n",
            "=================================================================\n",
            "Total params: 1,986,769\n",
            "Trainable params: 1,986,769\n",
            "Non-trainable params: 0\n",
            "_________________________________________________________________\n"
          ],
          "name": "stdout"
        }
      ]
    },
    {
      "cell_type": "code",
      "metadata": {
        "colab": {
          "base_uri": "https://localhost:8080/"
        },
        "id": "gVsnuWJGm4bm",
        "outputId": "03af9cec-65a3-4b29-f4a4-6bd86464725e"
      },
      "source": [
        "train_val_history = ANN_model.fit(sequences_matrix,Y_train,batch_size=128,epochs=10,\n",
        "                              validation_split=0.2)"
      ],
      "execution_count": null,
      "outputs": [
        {
          "output_type": "stream",
          "text": [
            "Epoch 1/10\n",
            "108/108 [==============================] - 6s 53ms/step - loss: 0.4818 - acc: 0.7445 - val_loss: 0.2087 - val_acc: 0.9202\n",
            "Epoch 2/10\n",
            "108/108 [==============================] - 6s 52ms/step - loss: 0.0981 - acc: 0.9675 - val_loss: 0.2245 - val_acc: 0.9170\n",
            "Epoch 3/10\n",
            "108/108 [==============================] - 6s 51ms/step - loss: 0.0255 - acc: 0.9928 - val_loss: 0.3141 - val_acc: 0.9156\n",
            "Epoch 4/10\n",
            "108/108 [==============================] - 6s 52ms/step - loss: 0.0103 - acc: 0.9964 - val_loss: 0.3629 - val_acc: 0.9141\n",
            "Epoch 5/10\n",
            "108/108 [==============================] - 6s 53ms/step - loss: 0.0039 - acc: 0.9991 - val_loss: 0.4349 - val_acc: 0.9080\n",
            "Epoch 6/10\n",
            "108/108 [==============================] - 6s 53ms/step - loss: 0.0016 - acc: 0.9997 - val_loss: 0.4531 - val_acc: 0.9106\n",
            "Epoch 7/10\n",
            "108/108 [==============================] - 6s 51ms/step - loss: 6.0835e-04 - acc: 0.9999 - val_loss: 0.4912 - val_acc: 0.9086\n",
            "Epoch 8/10\n",
            "108/108 [==============================] - 6s 52ms/step - loss: 7.5748e-04 - acc: 0.9999 - val_loss: 0.5313 - val_acc: 0.9089\n",
            "Epoch 9/10\n",
            "108/108 [==============================] - 6s 52ms/step - loss: 3.2248e-04 - acc: 1.0000 - val_loss: 0.5185 - val_acc: 0.9127\n",
            "Epoch 10/10\n",
            "108/108 [==============================] - 6s 52ms/step - loss: 9.0365e-05 - acc: 1.0000 - val_loss: 0.5328 - val_acc: 0.9127\n"
          ],
          "name": "stdout"
        }
      ]
    },
    {
      "cell_type": "code",
      "metadata": {
        "colab": {
          "base_uri": "https://localhost:8080/"
        },
        "id": "txrpAY5pngFZ",
        "outputId": "bbf724cf-f354-4da3-ca56-fadc0d433fdd"
      },
      "source": [
        "# testing\n",
        "test_sequences = tok.texts_to_sequences(X_test)\n",
        "test_sequences_matrix = sequence.pad_sequences(test_sequences,\n",
        "                                               maxlen = max_len)\n",
        "\n",
        "\n",
        "# model = load_model(\"/content/drive/My Drive/fake_news_detection_LSTM_model.h5\")  \n",
        "\n",
        "accr= ANN_model.evaluate(test_sequences_matrix,Y_test)\n",
        "print(\"Test set \\n Loss : {:0.3f} \\n Accuracy: {:0.3f}\".format(accr[0],accr[1]))\n",
        "# assuming test batch size to be 32"
      ],
      "execution_count": null,
      "outputs": [
        {
          "output_type": "stream",
          "text": [
            "95/95 [==============================] - 0s 5ms/step - loss: 0.5999 - acc: 0.9126\n",
            "Test set \n",
            " Loss : 0.600 \n",
            " Accuracy: 0.913\n"
          ],
          "name": "stdout"
        }
      ]
    },
    {
      "cell_type": "code",
      "metadata": {
        "id": "1HblExcDpDCD",
        "colab": {
          "base_uri": "https://localhost:8080/"
        },
        "outputId": "005e0888-f262-4265-bf7e-3f60cbc583b9"
      },
      "source": [
        "# feature extraction for NB\n",
        "vectorizer = TfidfVectorizer()\n",
        "vectorizer.fit_transform(X_train)\n",
        "\n"
      ],
      "execution_count": null,
      "outputs": [
        {
          "output_type": "execute_result",
          "data": {
            "text/plain": [
              "<17172x176044 sparse matrix of type '<class 'numpy.float64'>'\n",
              "\twith 5883214 stored elements in Compressed Sparse Row format>"
            ]
          },
          "metadata": {
            "tags": []
          },
          "execution_count": 37
        }
      ]
    },
    {
      "cell_type": "code",
      "metadata": {
        "id": "L0C93K3xbVjo"
      },
      "source": [
        "# model building... NB\n",
        "NB = MultinomialNB()\n",
        "NB.fit(vectorizer.transform(X_train), Y_train)\n",
        "Y_pred_NB = NB.predict(vectorizer.transform(X_test))"
      ],
      "execution_count": null,
      "outputs": []
    },
    {
      "cell_type": "code",
      "metadata": {
        "colab": {
          "base_uri": "https://localhost:8080/"
        },
        "id": "KR__TxVTfnyB",
        "outputId": "eee1af0e-f31e-480f-b390-cd9fab4d0643"
      },
      "source": [
        "confusion_matrix(Y_test, Y_pred_NB)"
      ],
      "execution_count": null,
      "outputs": [
        {
          "output_type": "execute_result",
          "data": {
            "text/plain": [
              "array([[1427,   97],\n",
              "       [ 233, 1274]])"
            ]
          },
          "metadata": {
            "tags": []
          },
          "execution_count": 29
        }
      ]
    },
    {
      "cell_type": "code",
      "metadata": {
        "colab": {
          "base_uri": "https://localhost:8080/"
        },
        "id": "4W85ZdaDjA4S",
        "outputId": "31cb3881-ba06-4a0e-cc54-615e7aa8838d"
      },
      "source": [
        "accuracy_score(Y_test, Y_pred_NB)"
      ],
      "execution_count": null,
      "outputs": [
        {
          "output_type": "execute_result",
          "data": {
            "text/plain": [
              "0.9056417024084461"
            ]
          },
          "metadata": {
            "tags": []
          },
          "execution_count": 35
        }
      ]
    },
    {
      "cell_type": "code",
      "metadata": {
        "colab": {
          "base_uri": "https://localhost:8080/"
        },
        "id": "XvZ5cuFRtNoD",
        "outputId": "2d61b471-7945-46e8-92cb-e249101ccffe"
      },
      "source": [
        "# feature extraction for SVM\n",
        "vectorizer = TfidfVectorizer(max_features=10000)\n",
        "vectorizer.fit_transform(X_train)"
      ],
      "execution_count": null,
      "outputs": [
        {
          "output_type": "execute_result",
          "data": {
            "text/plain": [
              "<17172x10000 sparse matrix of type '<class 'numpy.float64'>'\n",
              "\twith 5040654 stored elements in Compressed Sparse Row format>"
            ]
          },
          "metadata": {
            "tags": []
          },
          "execution_count": 36
        }
      ]
    },
    {
      "cell_type": "code",
      "metadata": {
        "id": "gW9HB9-zjP5n"
      },
      "source": [
        "# model building... SVM\n",
        "SVM = SVC()\n",
        "SVM.fit(vectorizer.transform(X_train), Y_train)\n",
        "Y_pred_SVM = SVM.predict(vectorizer.transform(X_test))"
      ],
      "execution_count": null,
      "outputs": []
    },
    {
      "cell_type": "code",
      "metadata": {
        "colab": {
          "base_uri": "https://localhost:8080/",
          "height": 296
        },
        "id": "c4JNA-goodW-",
        "outputId": "3f5fc1d2-b296-4ab9-ff0b-347da96853cd"
      },
      "source": [
        "plot_confusion_matrix(SVM, vectorizer.transform(X_test), Y_test)"
      ],
      "execution_count": null,
      "outputs": [
        {
          "output_type": "execute_result",
          "data": {
            "text/plain": [
              "<sklearn.metrics._plot.confusion_matrix.ConfusionMatrixDisplay at 0x7f94b28f9358>"
            ]
          },
          "metadata": {
            "tags": []
          },
          "execution_count": 17
        },
        {
          "output_type": "display_data",
          "data": {
            "image/png": "[encoded data removed]",
            "text/plain": [
              "<Figure size 432x288 with 2 Axes>"
            ]
          },
          "metadata": {
            "tags": [],
            "needs_background": "light"
          }
        }
      ]
    },
    {
      "cell_type": "code",
      "metadata": {
        "colab": {
          "base_uri": "https://localhost:8080/"
        },
        "id": "l-_ypHPcukSL",
        "outputId": "a2d23abd-374d-4f28-c941-4422af828257"
      },
      "source": [
        "accuracy_score(Y_test, Y_pred_SVM)"
      ],
      "execution_count": null,
      "outputs": [
        {
          "output_type": "execute_result",
          "data": {
            "text/plain": [
              "0.9620587264929066"
            ]
          },
          "metadata": {
            "tags": []
          },
          "execution_count": 38
        }
      ]
    },
    {
      "cell_type": "code",
      "metadata": {
        "colab": {
          "base_uri": "https://localhost:8080/"
        },
        "id": "OGiKNcQ5weLH",
        "outputId": "2c27c4f8-a9b7-4198-d9c9-b4a4f22e263c"
      },
      "source": [
        "confusion_matrix(Y_test, Y_pred_SVM)"
      ],
      "execution_count": null,
      "outputs": [
        {
          "output_type": "execute_result",
          "data": {
            "text/plain": [
              "array([[1450,   74],\n",
              "       [  73, 1434]])"
            ]
          },
          "metadata": {
            "tags": []
          },
          "execution_count": 22
        }
      ]
    },
    {
      "cell_type": "code",
      "metadata": {
        "id": "ybOXPBBkwpSf"
      },
      "source": [
        ""
      ],
      "execution_count": null,
      "outputs": []
    }
  ]
}